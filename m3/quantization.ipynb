{
  "cells": [
    {
      "cell_type": "markdown",
      "metadata": {
        "id": "MgrPoJitf9Kj"
      },
      "source": [
        "# Quantization "
      ]
    },
    {
      "cell_type": "markdown",
      "metadata": {
        "id": "x1z8MkgCf9Km"
      },
      "source": [
        "### Setup"
      ]
    },
    {
      "cell_type": "code",
      "execution_count": null,
      "metadata": {
        "id": "AStOGgDmf9Km"
      },
      "outputs": [],
      "source": [
        "!pip install auto-gptq\n",
        "!pip install git+https://github.com/huggingface/optimum.git\n",
        "!pip install git+https://github.com/huggingface/transformers.git\n",
        "!pip install --upgrade accelerate\n",
        "!pip install -U -q quanto\n",
        "!pip install -U bitsandbytes\n",
        "!pip install huggingface-hub"
      ]
    },
    {
      "cell_type": "code",
      "execution_count": null,
      "metadata": {
        "id": "5O3Dv8vZHCGg"
      },
      "outputs": [],
      "source": [
        "#!huggingface-cli login\n",
        "from huggingface_hub import login"
      ]
    },
    {
      "cell_type": "code",
      "execution_count": null,
      "metadata": {
        "id": "pjA2rEPUf9Ko"
      },
      "outputs": [],
      "source": [
        "from transformers import AutoModelForCausalLM, BitsAndBytesConfig, AutoTokenizer\n",
        "import torch\n",
        "\n",
        "login(token='XXX')\n",
        "\n",
        "model_id = \"gillesdewaha/dpo_policy_model\"\n",
        "\n",
        "tokenizer = AutoTokenizer.from_pretrained(model_id)"
      ]
    },
    {
      "cell_type": "code",
      "execution_count": null,
      "metadata": {
        "id": "cUzObpljl08a"
      },
      "outputs": [],
      "source": [
        "model = AutoModelForCausalLM.from_pretrained(\n",
        "    model_id,\n",
        "    trust_remote_code=True)"
      ]
    },
    {
      "cell_type": "code",
      "execution_count": null,
      "metadata": {
        "id": "bllLSR_pl4Qd"
      },
      "outputs": [],
      "source": [
        "print(model)"
      ]
    },
    {
      "cell_type": "markdown",
      "metadata": {
        "id": "r1EOA8lblcU3"
      },
      "source": [
        "### bitsandbytes int4"
      ]
    },
    {
      "cell_type": "code",
      "execution_count": null,
      "metadata": {
        "id": "UzMIdY81lehE"
      },
      "outputs": [],
      "source": [
        "quantization_config = BitsAndBytesConfig(load_in_4bit=True, bnb_4bit_use_double_quant=True)\n",
        "bitsandbytes_int4_model = AutoModelForCausalLM.from_pretrained(\n",
        "    model_id,\n",
        "    quantization_config=quantization_config,\n",
        "    trust_remote_code=True)"
      ]
    },
    {
      "cell_type": "code",
      "execution_count": null,
      "metadata": {
        "id": "7nexWugLlkxw"
      },
      "outputs": [],
      "source": [
        "bitsandbytes_int4_model.push_to_hub(\"bitsandbytes_int4_model\")\n",
        "tokenizer.push_to_hub(\"bitsandbytes_int4_model\")"
      ]
    },
    {
      "cell_type": "markdown",
      "metadata": {
        "id": "UBfskL9Ff9Kr"
      },
      "source": [
        "###  bitsandbytes LLM.int8()"
      ]
    },
    {
      "cell_type": "code",
      "execution_count": null,
      "metadata": {
        "id": "bBJ3kc-xf9Kr"
      },
      "outputs": [],
      "source": [
        "quantization_config = BitsAndBytesConfig(load_in_8bit=True)\n",
        "bitsandbytes_int8_model = AutoModelForCausalLM.from_pretrained(\n",
        "    model_id,\n",
        "    quantization_config=quantization_config,\n",
        "    trust_remote_code=True)"
      ]
    },
    {
      "cell_type": "code",
      "execution_count": null,
      "metadata": {
        "id": "A8OQil3CODfE"
      },
      "outputs": [],
      "source": [
        "print(bitsandbytes_int8_model)"
      ]
    },
    {
      "cell_type": "code",
      "execution_count": null,
      "metadata": {
        "id": "CdmkMt-Sf9Kr"
      },
      "outputs": [],
      "source": [
        "bitsandbytes_int8_model.push_to_hub(\"bitsandbytes_int8_model\")\n",
        "tokenizer.push_to_hub(\"bitsandbytes_int8_model\")"
      ]
    }
  ],
  "metadata": {
    "accelerator": "GPU",
    "colab": {
      "gpuType": "T4",
      "provenance": []
    },
    "kernelspec": {
      "display_name": "Python 3",
      "name": "python3"
    },
    "language_info": {
      "codemirror_mode": {
        "name": "ipython",
        "version": 3
      },
      "file_extension": ".py",
      "mimetype": "text/x-python",
      "name": "python",
      "nbconvert_exporter": "python",
      "pygments_lexer": "ipython3",
      "version": "3.10.12"
    }
  },
  "nbformat": 4,
  "nbformat_minor": 0
}
