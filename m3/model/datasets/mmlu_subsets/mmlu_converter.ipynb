{
 "cells": [
  {
   "cell_type": "code",
   "execution_count": 3,
   "metadata": {},
   "outputs": [],
   "source": [
    "import json\n",
    "\n",
    "# Load the subjects that are related to machine learning or the desired subjects\n",
    "subjects = ['abstract algebra', 'college biology', 'college chemistry',\n",
    "            'college computer science', 'college mathematics', 'college physics',\n",
    "            'computer security', 'formal logic', 'machine learning','electrical engineering']\n",
    "\n",
    "input = 'mmlu.jsonl'\n",
    "\n",
    "output = 'mmlu_filtered.jsonl'\n",
    "\n",
    "with open(input, 'r') as infile, open(output, 'w') as outfile:\n",
    "        for line in infile:\n",
    "            data = json.loads(line)\n",
    "\n",
    "            if data['topic'] in subjects:\n",
    "\n",
    "                question = data['question']\n",
    "                options = {\n",
    "                    'A': data['answer_a'],\n",
    "                    'B': data['answer_b'],\n",
    "                    'C': data['answer_c'],\n",
    "                    'D': data['answer_d']\n",
    "                }\n",
    "\n",
    "                correct_answer = options[data['correct_answer']]\n",
    "\n",
    "                new_data = {\n",
    "                    'subject': data['topic'],\n",
    "                    'question': f\"Question: {question}\\n\\nOptions:\\n\" +\n",
    "                                \"\\n\".join(f\"{k}. {v}\" for k, v in options.items()) +\n",
    "                                \"\\n\\nAnswer:\",\n",
    "                    'answer': data['correct_answer']\n",
    "                }\n",
    "\n",
    "                \n",
    "                outfile.write(json.dumps(new_data) + '\\n')\n",
    "\n"
   ]
  }
 ],
 "metadata": {
  "kernelspec": {
   "display_name": "mnlp_project",
   "language": "python",
   "name": "python3"
  },
  "language_info": {
   "codemirror_mode": {
    "name": "ipython",
    "version": 3
   },
   "file_extension": ".py",
   "mimetype": "text/x-python",
   "name": "python",
   "nbconvert_exporter": "python",
   "pygments_lexer": "ipython3",
   "version": "3.10.12"
  }
 },
 "nbformat": 4,
 "nbformat_minor": 2
}
