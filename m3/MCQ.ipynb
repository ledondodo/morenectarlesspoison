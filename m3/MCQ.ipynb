{
 "cells": [
  {
   "cell_type": "markdown",
   "metadata": {},
   "source": [
    "# MCQ"
   ]
  },
  {
   "cell_type": "code",
   "execution_count": null,
   "metadata": {},
   "outputs": [],
   "source": [
    "# import the model\n",
    "\n",
    "import outlines\n",
    "\n",
    "device = None\n",
    "kwargs = {'local_files_only':True, 'trust_remote_code':True}\n",
    "model = outlines.models.transformers(\"riri-segard/bitsandbytes_int8_model\",\n",
    "                                     device=device,\n",
    "                                     model_kwargs=kwargs,\n",
    "                                     tokenizer_kwargs=kwargs)"
   ]
  },
  {
   "cell_type": "code",
   "execution_count": null,
   "metadata": {},
   "outputs": [],
   "source": [
    "import os\n",
    "ROOT_PATH = '../local/m2'\n",
    "DATASET = os.path.join(ROOT_PATH, \"data_OpenBookQA.jsonl\")\n",
    "DATASET = os.path.join(ROOT_PATH, \"data_SciQ.jsonl\")\n",
    "ROOT_PATH = './data'\n",
    "DATASET = os.path.join(ROOT_PATH, \"auxiliary_train/mc_test.csv\")\n",
    "\n",
    "# dataset\n",
    "\n",
    "from datasets import load_dataset\n",
    "dataset = load_dataset('csv', data_files=DATASET, split='train', header=None).select(range(50))"
   ]
  },
  {
   "cell_type": "code",
   "execution_count": null,
   "metadata": {},
   "outputs": [],
   "source": [
    "dataset[0]"
   ]
  },
  {
   "cell_type": "code",
   "execution_count": null,
   "metadata": {},
   "outputs": [],
   "source": [
    "# generator\n",
    "\n",
    "sample = dataset[0]\n",
    "\n",
    "question = sample['0'] + '\\nOptions:' + '\\nA. ' + sample['1'] + '\\nB. ' + sample['2'] + '\\nC. ' + sample['3'] + '\\nD. ' + sample['4']\n",
    "options = ['A','B','C','D']\n",
    "answer = sample['5']\n",
    "\n",
    "os.environ[\"TOKENIZERS_PARALLELISM\"] = \"false\"\n",
    "generator = outlines.generate.choice(model, options)\n",
    "print(generator(question))"
   ]
  },
  {
   "cell_type": "code",
   "execution_count": null,
   "metadata": {},
   "outputs": [],
   "source": []
  }
 ],
 "metadata": {
  "kernelspec": {
   "display_name": "mnlp",
   "language": "python",
   "name": "python3"
  },
  "language_info": {
   "codemirror_mode": {
    "name": "ipython",
    "version": 3
   },
   "file_extension": ".py",
   "mimetype": "text/x-python",
   "name": "python",
   "nbconvert_exporter": "python",
   "pygments_lexer": "ipython3",
   "version": "3.10.11"
  }
 },
 "nbformat": 4,
 "nbformat_minor": 2
}
