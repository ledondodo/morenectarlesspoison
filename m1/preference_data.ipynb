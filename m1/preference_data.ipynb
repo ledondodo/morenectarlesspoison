{
 "cells": [
  {
   "cell_type": "markdown",
   "metadata": {},
   "source": [
    "# Import GPT Wrapper"
   ]
  },
  {
   "cell_type": "code",
   "execution_count": null,
   "metadata": {},
   "outputs": [],
   "source": [
    "import gpt_wrapper\n",
    "\n",
    "gpt_wrapper.api_base = \"http://mnlp-backend-938795011.eu-central-1.elb.amazonaws.com\"\n",
    "gpt_wrapper.api_key = \"XXX\""
   ]
  },
  {
   "cell_type": "code",
   "execution_count": 3,
   "metadata": {},
   "outputs": [
    {
     "name": "stdout",
     "output_type": "stream",
     "text": [
      "The French national team won the FIFA World Cup in 2018.\n"
     ]
    }
   ],
   "source": [
    "from gpt_wrapper.chat import Chat\n",
    "\n",
    "chat1 = Chat.create(\"Test Chat\")\n",
    "message = chat1.ask(content=\"Who won the FIFA championship in 2018?\")\n",
    "print(message)"
   ]
  },
  {
   "cell_type": "code",
   "execution_count": 4,
   "metadata": {},
   "outputs": [
    {
     "data": {
      "text/plain": [
       "{'limit': 10000000, 'usage': 1310416}"
      ]
     },
     "execution_count": 4,
     "metadata": {},
     "output_type": "execute_result"
    }
   ],
   "source": [
    "Chat.budget()"
   ]
  },
  {
   "cell_type": "markdown",
   "metadata": {},
   "source": [
    "# Load data"
   ]
  },
  {
   "cell_type": "code",
   "execution_count": null,
   "metadata": {},
   "outputs": [
    {
     "data": {
      "text/html": [
       "<div>\n",
       "<style scoped>\n",
       "    .dataframe tbody tr th:only-of-type {\n",
       "        vertical-align: middle;\n",
       "    }\n",
       "\n",
       "    .dataframe tbody tr th {\n",
       "        vertical-align: top;\n",
       "    }\n",
       "\n",
       "    .dataframe thead th {\n",
       "        text-align: right;\n",
       "    }\n",
       "</style>\n",
       "<table border=\"1\" class=\"dataframe\">\n",
       "  <thead>\n",
       "    <tr style=\"text-align: right;\">\n",
       "      <th></th>\n",
       "      <th>course_id</th>\n",
       "      <th>question_id</th>\n",
       "      <th>question_body</th>\n",
       "      <th>question_options</th>\n",
       "    </tr>\n",
       "  </thead>\n",
       "  <tbody>\n",
       "    <tr>\n",
       "      <th>0</th>\n",
       "      <td>15000</td>\n",
       "      <td>66</td>\n",
       "      <td>How many elements of the input contribute to a...</td>\n",
       "      <td>None</td>\n",
       "    </tr>\n",
       "    <tr>\n",
       "      <th>1</th>\n",
       "      <td>15006</td>\n",
       "      <td>4170</td>\n",
       "      <td>Given the following classes:\\n• class Pair[+U,...</td>\n",
       "      <td>None</td>\n",
       "    </tr>\n",
       "    <tr>\n",
       "      <th>2</th>\n",
       "      <td>15003</td>\n",
       "      <td>7361</td>\n",
       "      <td>A sequential object is a tuple T = (Q, q0, O, ...</td>\n",
       "      <td>None</td>\n",
       "    </tr>\n",
       "    <tr>\n",
       "      <th>3</th>\n",
       "      <td>15000</td>\n",
       "      <td>67</td>\n",
       "      <td>Consider an operation we will call scanRight1 ...</td>\n",
       "      <td>None</td>\n",
       "    </tr>\n",
       "    <tr>\n",
       "      <th>4</th>\n",
       "      <td>0</td>\n",
       "      <td>6154</td>\n",
       "      <td>Which of the following is well preserved by 2G?</td>\n",
       "      <td>[Confidentiality, Message Integrity, Challenge...</td>\n",
       "    </tr>\n",
       "    <tr>\n",
       "      <th>...</th>\n",
       "      <td>...</td>\n",
       "      <td>...</td>\n",
       "      <td>...</td>\n",
       "      <td>...</td>\n",
       "    </tr>\n",
       "    <tr>\n",
       "      <th>95</th>\n",
       "      <td>15000</td>\n",
       "      <td>32</td>\n",
       "      <td>Is calling &lt;code&gt;parGroupyBy3&lt;/code&gt; determini...</td>\n",
       "      <td>None</td>\n",
       "    </tr>\n",
       "    <tr>\n",
       "      <th>96</th>\n",
       "      <td>15125</td>\n",
       "      <td>3658</td>\n",
       "      <td>Implement weigthing estimation of kNN classifi...</td>\n",
       "      <td>None</td>\n",
       "    </tr>\n",
       "    <tr>\n",
       "      <th>97</th>\n",
       "      <td>15041</td>\n",
       "      <td>2744</td>\n",
       "      <td>What is the mean squared error of $f$ for a sa...</td>\n",
       "      <td>[ $||y - f(\\textbf{x},W)||^2 $ ,  $||y - f(\\te...</td>\n",
       "    </tr>\n",
       "    <tr>\n",
       "      <th>98</th>\n",
       "      <td>5</td>\n",
       "      <td>6698</td>\n",
       "      <td>\\t Consider a source $S$ with some distributio...</td>\n",
       "      <td>[True, False]</td>\n",
       "    </tr>\n",
       "    <tr>\n",
       "      <th>99</th>\n",
       "      <td>15118</td>\n",
       "      <td>6912</td>\n",
       "      <td>A car drives over a very bumpy road (see diagr...</td>\n",
       "      <td>None</td>\n",
       "    </tr>\n",
       "  </tbody>\n",
       "</table>\n",
       "<p>100 rows × 4 columns</p>\n",
       "</div>"
      ],
      "text/plain": [
       "    course_id  question_id                                      question_body  \\\n",
       "0       15000           66  How many elements of the input contribute to a...   \n",
       "1       15006         4170  Given the following classes:\\n• class Pair[+U,...   \n",
       "2       15003         7361  A sequential object is a tuple T = (Q, q0, O, ...   \n",
       "3       15000           67  Consider an operation we will call scanRight1 ...   \n",
       "4           0         6154    Which of the following is well preserved by 2G?   \n",
       "..        ...          ...                                                ...   \n",
       "95      15000           32  Is calling <code>parGroupyBy3</code> determini...   \n",
       "96      15125         3658  Implement weigthing estimation of kNN classifi...   \n",
       "97      15041         2744  What is the mean squared error of $f$ for a sa...   \n",
       "98          5         6698  \\t Consider a source $S$ with some distributio...   \n",
       "99      15118         6912  A car drives over a very bumpy road (see diagr...   \n",
       "\n",
       "                                     question_options  \n",
       "0                                                None  \n",
       "1                                                None  \n",
       "2                                                None  \n",
       "3                                                None  \n",
       "4   [Confidentiality, Message Integrity, Challenge...  \n",
       "..                                                ...  \n",
       "95                                               None  \n",
       "96                                               None  \n",
       "97  [ $||y - f(\\textbf{x},W)||^2 $ ,  $||y - f(\\te...  \n",
       "98                                      [True, False]  \n",
       "99                                               None  \n",
       "\n",
       "[100 rows x 4 columns]"
      ]
     },
     "metadata": {},
     "output_type": "display_data"
    }
   ],
   "source": [
    "import pandas as pd \n",
    "\n",
    "data = pd.read_json(\"data/330072.json\")\n",
    "\n",
    "display(data)"
   ]
  },
  {
   "cell_type": "code",
   "execution_count": 72,
   "metadata": {},
   "outputs": [],
   "source": [
    "columns = [\"course_id\", \"question_id\", \"question\", \"A_chat_id\", \"B_chat_id\", \"A\", \"B\", \"ranking_criteria\"]\n",
    "output_df = pd.DataFrame(columns=columns)\n",
    "\n",
    "# group by the 'course_id' column and iterate over the groups\n",
    "for course_id, group in data.groupby(\"course_id\"):\n",
    "    chat_1 = Chat.create(\"chat_1\")\n",
    "    chat_2 = Chat.create(\"chat_2\")\n",
    "    for i, row in group.iterrows():\n",
    "        question = row[\"question_body\"]\n",
    "\n",
    "        if row[\"question_options\"]:\n",
    "            question += \"\\nChoose among the following options: \\n\" + \", \\n\".join(row[\"question_options\"])\n",
    "\n",
    "        question_1 = question + \"\\nExplain your reasoning step by step. \" \n",
    "        question_2 = question + \"\\nJustify your answer. \"\n",
    "        \n",
    "        answer_1 = chat_1.ask(content=question_1)\n",
    "        answer_2 = chat_2.ask(content=question_2)\n",
    "\n",
    "        output = {\n",
    "            \"course_id\": course_id,\n",
    "            \"question_id\": row[\"question_id\"],\n",
    "            \"question\": row[\"question_body\"],\n",
    "            \"A_chat_id\": answer_1.to_dict()[\"chat_id\"],\n",
    "            \"B_chat_id\": answer_2.to_dict()[\"chat_id\"],\n",
    "            \"A\": answer_1.to_dict()[\"content\"],\n",
    "            \"B\": answer_2.to_dict()[\"content\"],\n",
    "            \"ranking_criteria\": {\n",
    "                        \"overall\": \"\",\n",
    "                        \"correctness\": \"\",\n",
    "                        \"relevance\": \"\",\n",
    "                        \"clarity\": \"\",\n",
    "                        \"completeness\": \"\",\n",
    "                        \"other\": \"Conciseness: ; Engagement: \"\n",
    "            }\n",
    "        }\n",
    "        output_df = pd.concat([output_df, pd.DataFrame([output], columns=columns)], ignore_index=True)\n",
    "        \n",
    "output_df.to_json(\"data/330072.json\", orient=\"records\")\n",
    "        \n",
    "    "
   ]
  },
  {
   "cell_type": "code",
   "execution_count": null,
   "metadata": {},
   "outputs": [],
   "source": []
  }
 ],
 "metadata": {
  "kernelspec": {
   "display_name": "mnlp-project",
   "language": "python",
   "name": "python3"
  },
  "language_info": {
   "codemirror_mode": {
    "name": "ipython",
    "version": 3
   },
   "file_extension": ".py",
   "mimetype": "text/x-python",
   "name": "python",
   "nbconvert_exporter": "python",
   "pygments_lexer": "ipython3",
   "version": "3.9.19"
  }
 },
 "nbformat": 4,
 "nbformat_minor": 2
}
